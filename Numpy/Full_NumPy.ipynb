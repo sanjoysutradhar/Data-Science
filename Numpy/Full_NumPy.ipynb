{
 "cells": [
  {
   "cell_type": "markdown",
   "metadata": {},
   "source": [
    "#                           NUMPY\n",
    "# Outline"
   ]
  },
  {
   "cell_type": "markdown",
   "metadata": {},
   "source": [
    "1. numpy Introduction                          \n",
    "2. Array basics                                \n",
    "3. Array vs List                               \n",
    "4. Dot Products                               \n",
    "5. Speed Test array vs list                    \n",
    "6. Multidimensional array(nd-array)            \n",
    "7. Array indexing/slicing/boolean indexing     \n",
    "8. Reshape                                         \n",
    "9. Concatenation                                   \n",
    "10. Broadcasting \n",
    "11. (Data Science) Function and Axis\n",
    "12. Datatypes\n",
    "13. Coping\n",
    "14. Generating Array\n",
    "15. Random Numbers\n",
    "16. Linear Algebra(np.linalg)\n",
    " - Eigenvalues\n",
    " - Solving Linear System\n",
    "17. Loading data from csv"
   ]
  },
  {
   "cell_type": "markdown",
   "metadata": {},
   "source": [
    "# Numpy"
   ]
  },
  {
   "cell_type": "markdown",
   "metadata": {},
   "source": [
    "- Core LIBRARY for scientific computing in python \n",
    "    - Data science, Machine Learning, Deep Learning \n",
    "    - scikit-learn, matplotlib, pandas.....\n",
    "- High performance multidimensional array-> FAST!\n",
    "- Mathematical operations with arrays\n",
    "- A lot of code written in C "
   ]
  },
  {
   "cell_type": "markdown",
   "metadata": {},
   "source": [
    "# NumPy Usecase"
   ]
  },
  {
   "cell_type": "markdown",
   "metadata": {},
   "source": [
    "- Array/Matrix operations - Linear algebra\n",
    "- Dot product\n",
    "- Matrix Multiplications\n",
    "- Linear systems \n",
    "- Inverse, determinant\n",
    "- Eigenvectors\n",
    "- Random numbers\n",
    "- Working with images represented as array"
   ]
  },
  {
   "cell_type": "code",
   "execution_count": 2,
   "metadata": {},
   "outputs": [],
   "source": [
    "import numpy as np"
   ]
  },
  {
   "cell_type": "code",
   "execution_count": 5,
   "metadata": {},
   "outputs": [
    {
     "data": {
      "text/plain": [
       "'1.19.5'"
      ]
     },
     "execution_count": 5,
     "metadata": {},
     "output_type": "execute_result"
    }
   ],
   "source": [
    "np.__version__"
   ]
  },
  {
   "cell_type": "code",
   "execution_count": 10,
   "metadata": {},
   "outputs": [
    {
     "name": "stdout",
     "output_type": "stream",
     "text": [
      "[1 2 3 4 5]\n",
      "(5,)\n",
      "int32\n",
      "1\n",
      "5\n",
      "4\n"
     ]
    }
   ],
   "source": [
    "a = np.array([1,2,3,4,5])\n",
    "print(a)\n",
    "print(a.shape)\n",
    "print(a.dtype)\n",
    "print(a.ndim)\n",
    "print(a.size)\n",
    "print(a.itemsize)\n",
    "a.itemsize"
   ]
  },
  {
   "cell_type": "code",
   "execution_count": 13,
   "metadata": {},
   "outputs": [
    {
     "name": "stdout",
     "output_type": "stream",
     "text": [
      "[11  2  3  4  5]\n"
     ]
    }
   ],
   "source": [
    "a[0]\n",
    "a[0] = 11\n",
    "print(a)"
   ]
  },
  {
   "cell_type": "code",
   "execution_count": 17,
   "metadata": {},
   "outputs": [
    {
     "name": "stdout",
     "output_type": "stream",
     "text": [
      "[22  0  6 12 20]\n"
     ]
    }
   ],
   "source": [
    "b= a* np.array([2,0,2,3,4])\n",
    "# c= a* np.array([2,0,2]) # both array should be same\n",
    "print(b)"
   ]
  },
  {
   "cell_type": "code",
   "execution_count": 32,
   "metadata": {},
   "outputs": [],
   "source": [
    "l=[1,2,3,4,5]\n",
    "a= np.array([1,2,3,4,5])"
   ]
  },
  {
   "cell_type": "code",
   "execution_count": 33,
   "metadata": {},
   "outputs": [
    {
     "name": "stdout",
     "output_type": "stream",
     "text": [
      "[1, 2, 3, 4, 5, 4]\n"
     ]
    }
   ],
   "source": [
    "l.append(4)\n",
    "#a.append(4) #'numpy.ndarray' object has no attribute 'append'\n",
    "print(l)\n",
    "#print(a)"
   ]
  },
  {
   "cell_type": "code",
   "execution_count": 35,
   "metadata": {},
   "outputs": [
    {
     "name": "stdout",
     "output_type": "stream",
     "text": [
      "[1, 2, 3, 4, 5, 4, 7]\n",
      "[1, 2, 3, 4, 5, 4, 1, 2, 3, 4, 5, 4]\n",
      "[ 8  9 10 11 12]\n",
      "[3 4 5 6 7]\n"
     ]
    }
   ],
   "source": [
    "# \n",
    "m = l + [7] # concatenate\n",
    "print(m)\n",
    "n= l * 2\n",
    "print(n)\n",
    "o= a + np.array([7]) # addition\n",
    "print(o)\n",
    "p = a + 2\n",
    "print(p)"
   ]
  },
  {
   "cell_type": "code",
   "execution_count": 43,
   "metadata": {},
   "outputs": [
    {
     "name": "stdout",
     "output_type": "stream",
     "text": [
      "[ 1  4  9 16 25]\n",
      "[1. 2. 3. 4. 5.]\n"
     ]
    },
    {
     "data": {
      "text/plain": [
       "array([1.        , 1.41421356, 1.73205081, 2.        , 2.23606798])"
      ]
     },
     "execution_count": 43,
     "metadata": {},
     "output_type": "execute_result"
    }
   ],
   "source": [
    "np.sort(a)\n",
    "sq=np.square(a)\n",
    "print(sq)\n",
    "print(np.sqrt(sq))\n",
    "np.sqrt(a)"
   ]
  },
  {
   "cell_type": "markdown",
   "metadata": {},
   "source": [
    "# dot product"
   ]
  },
  {
   "cell_type": "markdown",
   "metadata": {},
   "source": [
    "Dot product is sum of the product to the crrospanding entries"
   ]
  },
  {
   "cell_type": "code",
   "execution_count": 45,
   "metadata": {},
   "outputs": [
    {
     "name": "stdout",
     "output_type": "stream",
     "text": [
      "32\n"
     ]
    }
   ],
   "source": [
    "l1 = [1,2,3]\n",
    "l2 = [4,5,6]\n",
    "a1 = np.array(l1)\n",
    "a2 = np.array(l2)\n",
    "\n",
    "dot=0\n",
    "for i in range(len(l1)):\n",
    "    dot+= l1[i]*l2[i]\n",
    "print(dot)\n"
   ]
  },
  {
   "cell_type": "code",
   "execution_count": 51,
   "metadata": {},
   "outputs": [
    {
     "name": "stdout",
     "output_type": "stream",
     "text": [
      "32\n",
      "32\n",
      "32\n",
      "32\n"
     ]
    }
   ],
   "source": [
    "dot=np.dot(a1,a2)\n",
    "print(dot)\n",
    "\n",
    "sum1= a1* a2\n",
    "sum1\n",
    "dot= np.sum(sum1)\n",
    "print(dot)\n",
    "\n",
    "dot= (a1*a2).sum()\n",
    "print(dot)\n",
    "\n",
    "dot=a1@a2\n",
    "print(dot)"
   ]
  },
  {
   "cell_type": "markdown",
   "metadata": {},
   "source": [
    "# speed test of numpy array and list"
   ]
  },
  {
   "cell_type": "code",
   "execution_count": 52,
   "metadata": {},
   "outputs": [
    {
     "name": "stdout",
     "output_type": "stream",
     "text": [
      "list calculation 0.4016129000001456\n",
      "np.dot 0.013237400000434718\n",
      "ratio 30.339258463667832\n"
     ]
    }
   ],
   "source": [
    "from timeit import default_timer as timer\n",
    "a = np.random.randn(1000)\n",
    "b = np.random.randn(1000)\n",
    "\n",
    "A=list(a)\n",
    "B=list(b)\n",
    "\n",
    "T=1000\n",
    "\n",
    "def dot1():\n",
    "    dot= 0\n",
    "    for i in range(len(A)):\n",
    "        dot+=A[i]*B[i]\n",
    "    return dot\n",
    "def dot2():\n",
    "    return np.dot(a,b)\n",
    "\n",
    "start=timer()\n",
    "for t in range(T):\n",
    "    dot1()\n",
    "end=timer()\n",
    "t1= end-start\n",
    "\n",
    "start= timer()\n",
    "for t in range(T):\n",
    "    dot2()\n",
    "end=timer()\n",
    "t2= end-start\n",
    "\n",
    "print('list calculation',t1)\n",
    "print('np.dot',t2)\n",
    "print('ratio',t1/t2)"
   ]
  },
  {
   "cell_type": "markdown",
   "metadata": {},
   "source": [
    "# multidimensional array"
   ]
  },
  {
   "cell_type": "code",
   "execution_count": 4,
   "metadata": {},
   "outputs": [
    {
     "name": "stdout",
     "output_type": "stream",
     "text": [
      "[[1 2]\n",
      " [3 4]]\n",
      "shape: (2, 2)\n",
      "[[1 2 3]\n",
      " [3 4 5]]\n",
      "shape: (2, 3)\n",
      "2 4\n",
      "2 4\n"
     ]
    }
   ],
   "source": [
    "a= np.array([[1,2],[3,4]])\n",
    "print(a)\n",
    "print('shape:',a.shape)\n",
    "\n",
    "b= np.array([[1,2,3],[3,4,5]])\n",
    "print(b)\n",
    "print('shape:',b.shape)\n",
    "\n",
    "print(a[0][1],b[1][1])\n",
    "print(a[0,1],b[1,1])"
   ]
  },
  {
   "cell_type": "markdown",
   "metadata": {},
   "source": [
    "slicing"
   ]
  },
  {
   "cell_type": "code",
   "execution_count": 9,
   "metadata": {},
   "outputs": [
    {
     "data": {
      "text/plain": [
       "array([1, 2, 3])"
      ]
     },
     "execution_count": 9,
     "metadata": {},
     "output_type": "execute_result"
    }
   ],
   "source": [
    "print(b[:,0])\n",
    "print(b[0,:])"
   ]
  },
  {
   "cell_type": "code",
   "execution_count": 23,
   "metadata": {},
   "outputs": [
    {
     "name": "stdout",
     "output_type": "stream",
     "text": [
      "[[1 2 3]\n",
      " [3 4 5]]\n",
      "Transpose:\n",
      " [[1 3]\n",
      " [2 4]\n",
      " [3 5]]\n",
      "inverse\n",
      "[[-2.   1. ]\n",
      " [ 1.5 -0.5]]\n",
      "Determinant: -2.0000000000000004\n",
      "Diagonal Matrix: [1 4]\n",
      "Diagonal Matrix: [1 4]\n",
      "Diagonal Matrix:\n",
      " [[1 0]\n",
      " [0 4]]\n"
     ]
    }
   ],
   "source": [
    "print(b)\n",
    "print(\"Transpose:\\n\",b.T)\n",
    "print(\"inverse\",)\n",
    "print(np.linalg.inv(a))\n",
    "print(\"Determinant:\",np.linalg.det(a))\n",
    "print(\"Diagonal Matrix:\",np.diagonal(a))\n",
    "print(\"Diagonal Matrix:\",np.diag(a))\n",
    "d=np.diag(a)\n",
    "print(\"Diagonal Matrix:\\n\",np.diag(d))"
   ]
  },
  {
   "cell_type": "code",
   "execution_count": 29,
   "metadata": {},
   "outputs": [
    {
     "name": "stdout",
     "output_type": "stream",
     "text": [
      "[[1 2 3 4]\n",
      " [5 6 7 8]\n",
      " [9 6 3 8]\n",
      " [7 5 3 8]]\n",
      "5\n"
     ]
    }
   ],
   "source": [
    "c= np.array([[1,2,3,4],[5,6,7,8],[9,6,3,8],[7,5,3,8]])\n",
    "print(c)\n",
    "b=c[0,:]\n",
    "print(c[-1,-3])"
   ]
  },
  {
   "cell_type": "code",
   "execution_count": 35,
   "metadata": {},
   "outputs": [
    {
     "name": "stdout",
     "output_type": "stream",
     "text": [
      "[[False False  True  True]\n",
      " [ True  True  True  True]\n",
      " [ True  True  True  True]\n",
      " [ True  True  True  True]]\n",
      "[3 4 5 6 7 8 9 6 3 8 7 5 3 8]\n",
      "[6 7 8 9 6 8 7 8]\n",
      "[[-1 -1 -1  4]\n",
      " [ 5  6  7  8]\n",
      " [ 9  6 -1  8]\n",
      " [ 7  5 -1  8]]\n"
     ]
    }
   ],
   "source": [
    "bool_ind=c>2\n",
    "print(bool_ind)\n",
    "print(c[bool_ind])\n",
    "print(c[c>5])\n",
    "e=np.where(c>3,c,-1)\n",
    "print(e)"
   ]
  },
  {
   "cell_type": "code",
   "execution_count": 37,
   "metadata": {},
   "outputs": [
    {
     "name": "stdout",
     "output_type": "stream",
     "text": [
      "[42 25 78 15 13 98 45 25]\n",
      "[25 15 98]\n"
     ]
    }
   ],
   "source": [
    "a=np.array([42,25,78,15,13,98,45,25])\n",
    "print(a)\n",
    "b=[1,3,5]\n",
    "print(a[b])"
   ]
  },
  {
   "cell_type": "code",
   "execution_count": 43,
   "metadata": {},
   "outputs": [
    {
     "name": "stdout",
     "output_type": "stream",
     "text": [
      "[[42]\n",
      " [78]\n",
      " [98]]\n",
      "[42 78 98]\n"
     ]
    }
   ],
   "source": [
    "#find even number\n",
    "even=np.argwhere(a%2==0)\n",
    "print(a[even])\n",
    "\n",
    "even=np.argwhere(a%2==0).flatten()\n",
    "print(a[even])"
   ]
  },
  {
   "cell_type": "markdown",
   "metadata": {},
   "source": [
    "\n",
    "# Reshape"
   ]
  },
  {
   "cell_type": "code",
   "execution_count": 45,
   "metadata": {},
   "outputs": [
    {
     "name": "stdout",
     "output_type": "stream",
     "text": [
      "[1 2 3 4 5 6 7 8 9]\n",
      "(9,)\n"
     ]
    }
   ],
   "source": [
    "a= np.arange(1,10, dtype=int)\n",
    "print(a)\n",
    "print(a.shape)"
   ]
  },
  {
   "cell_type": "code",
   "execution_count": 46,
   "metadata": {},
   "outputs": [
    {
     "data": {
      "text/plain": [
       "array([[1, 2, 3],\n",
       "       [4, 5, 6],\n",
       "       [7, 8, 9]])"
      ]
     },
     "execution_count": 46,
     "metadata": {},
     "output_type": "execute_result"
    }
   ],
   "source": [
    "b=a.reshape(3,3)\n",
    "b"
   ]
  },
  {
   "cell_type": "code",
   "execution_count": 50,
   "metadata": {},
   "outputs": [
    {
     "name": "stdout",
     "output_type": "stream",
     "text": [
      "[[1]\n",
      " [2]\n",
      " [3]\n",
      " [4]\n",
      " [5]\n",
      " [6]\n",
      " [7]\n",
      " [8]\n",
      " [9]]\n",
      "(9, 1)\n",
      "[[1 2 3 4 5 6 7 8 9]]\n",
      "(1, 9)\n"
     ]
    }
   ],
   "source": [
    "b=a[:,np.newaxis]\n",
    "print(b)\n",
    "print(b.shape)\n",
    "b=a[np.newaxis,:]\n",
    "print(b)\n",
    "print(b.shape)"
   ]
  },
  {
   "cell_type": "code",
   "execution_count": 67,
   "metadata": {},
   "outputs": [
    {
     "name": "stdout",
     "output_type": "stream",
     "text": [
      "[1 2 3 4 5 6]\n",
      "[[1 2]\n",
      " [3 4]\n",
      " [5 6]]\n",
      "[[1 2 5]\n",
      " [3 4 6]]\n"
     ]
    }
   ],
   "source": [
    "a= np.array([[1,2],[3,4]])\n",
    "b= np.array([[5,6]])\n",
    "c=np.concatenate((a,b), axis=None)\n",
    "print(c)\n",
    "c=np.concatenate((a,b), axis=0)\n",
    "print(c)\n",
    "c=np.concatenate((a,b.T), axis=1)\n",
    "print(c)"
   ]
  },
  {
   "cell_type": "code",
   "execution_count": 71,
   "metadata": {},
   "outputs": [
    {
     "name": "stdout",
     "output_type": "stream",
     "text": [
      "[1 2 3 4 5 6 7 8]\n",
      "[[1 2 3 4]\n",
      " [5 6 7 8]]\n"
     ]
    }
   ],
   "source": [
    "a=np.array([1,2,3,4])\n",
    "b=np.array([5,6,7,8])\n",
    "#hstack , vstack\n",
    "c=np.hstack((a,b))\n",
    "print(c)\n",
    "c=np.vstack((a,b))\n",
    "print(c)"
   ]
  },
  {
   "cell_type": "code",
   "execution_count": 74,
   "metadata": {
    "scrolled": true
   },
   "outputs": [
    {
     "name": "stdout",
     "output_type": "stream",
     "text": [
      "[[1 2 3]\n",
      " [3 4 5]\n",
      " [7 5 3]]\n",
      "[[2 2 5]\n",
      " [4 4 7]\n",
      " [8 5 5]]\n"
     ]
    }
   ],
   "source": [
    "x= np.array([[1,2,3],[3,4,5],[7,5,3]])\n",
    "b=np.array([1,0,2])\n",
    "print(x)\n",
    "y= x+b\n",
    "print(y)"
   ]
  },
  {
   "cell_type": "code",
   "execution_count": 82,
   "metadata": {},
   "outputs": [
    {
     "name": "stdout",
     "output_type": "stream",
     "text": [
      "[[ 8  7  9 10]\n",
      " [ 7 12 11 13]]\n",
      "sum all values: 77\n",
      "vertically sum: [15 19 20 23]\n",
      "horizontally sum: [34 43]\n"
     ]
    }
   ],
   "source": [
    "y= np.array([[8,7,9,10],[7,12,11,13]])\n",
    "print(y)\n",
    "print(\"sum all values:\",y.sum(axis=None))\n",
    "print(\"vertically sum:\",y.sum(axis=0))\n",
    "print(\"horizontally sum:\",y.sum(axis=1))"
   ]
  },
  {
   "cell_type": "code",
   "execution_count": 86,
   "metadata": {},
   "outputs": [
    {
     "name": "stdout",
     "output_type": "stream",
     "text": [
      "[[1 2 3]\n",
      " [3 4 5]\n",
      " [7 5 3]]\n",
      "sum all values: 33\n",
      "sum all values: 33\n",
      "vertically sum: [11 11 11]\n",
      "horizontally sum: [ 6 12 15]\n"
     ]
    }
   ],
   "source": [
    "print(x)\n",
    "print(\"sum all values:\",x.sum(axis=None))\n",
    "print(\"sum all values:\",np.sum(x,axis=None)) # we can use respectively mean,median,average,std, etd,.\n",
    "print(\"vertically sum:\",x.sum(axis=0))\n",
    "print(\"horizontally sum:\",x.sum(axis=1))"
   ]
  },
  {
   "cell_type": "markdown",
   "metadata": {},
   "source": [
    "# copy"
   ]
  },
  {
   "cell_type": "code",
   "execution_count": 87,
   "metadata": {},
   "outputs": [
    {
     "name": "stdout",
     "output_type": "stream",
     "text": [
      "[4 5 6 9]\n",
      "[4 5 6 9]\n",
      "[42  5  6  9]\n",
      "[42  5  6  9]\n"
     ]
    }
   ],
   "source": [
    "a = np.array([4,5,6,9])\n",
    "b=a\n",
    "print(b)\n",
    "print(a)\n",
    "b[0]=42\n",
    "print(b)\n",
    "print(a)"
   ]
  },
  {
   "cell_type": "code",
   "execution_count": 88,
   "metadata": {},
   "outputs": [
    {
     "name": "stdout",
     "output_type": "stream",
     "text": [
      "[4 5 6 9]\n",
      "[4 5 6 9]\n",
      "[42  5  6  9]\n",
      "[4 5 6 9]\n"
     ]
    }
   ],
   "source": [
    "a = np.array([4,5,6,9])\n",
    "b=a.copy()\n",
    "print(b)\n",
    "print(a)\n",
    "b[0]=42\n",
    "print(b)\n",
    "print(a)"
   ]
  },
  {
   "cell_type": "markdown",
   "metadata": {},
   "source": [
    "# Generating Data, Arrays"
   ]
  },
  {
   "cell_type": "code",
   "execution_count": 98,
   "metadata": {},
   "outputs": [
    {
     "name": "stdout",
     "output_type": "stream",
     "text": [
      "[[0. 0. 0.]\n",
      " [0. 0. 0.]]\n",
      "float64\n",
      "[0. 0. 0. 0. 0. 0. 0. 0. 0. 0.]\n",
      "float64\n",
      "[[1 1 1]\n",
      " [1 1 1]]\n",
      "int32\n",
      "[1. 1. 1. 1. 1. 1. 1. 1. 1. 1.]\n",
      "float64\n"
     ]
    }
   ],
   "source": [
    "z1= np.zeros((2,3))\n",
    "print(z1)\n",
    "print(z1.dtype)\n",
    "z2= np.zeros(10)\n",
    "print(z2)\n",
    "print(z2.dtype)\n",
    "\n",
    "o1= np.ones((2,3),dtype=int)\n",
    "print(o1)\n",
    "print(o1.dtype)\n",
    "o2= np.ones(10)\n",
    "print(o2)\n",
    "print(o2.dtype)"
   ]
  },
  {
   "cell_type": "code",
   "execution_count": 105,
   "metadata": {},
   "outputs": [
    {
     "name": "stdout",
     "output_type": "stream",
     "text": [
      "[[5 5 5]\n",
      " [5 5 5]]\n",
      "int32\n"
     ]
    }
   ],
   "source": [
    "# array with specific values\n",
    "sp=np.full((2,3),5.0,dtype=int)\n",
    "print(sp)\n",
    "print(sp.dtype)"
   ]
  },
  {
   "cell_type": "markdown",
   "metadata": {},
   "source": [
    "# idnetity Matrix"
   ]
  },
  {
   "cell_type": "code",
   "execution_count": 118,
   "metadata": {},
   "outputs": [
    {
     "name": "stdout",
     "output_type": "stream",
     "text": [
      "[[1. 0. 0. 0.]\n",
      " [0. 1. 0. 0.]\n",
      " [0. 0. 1. 0.]\n",
      " [0. 0. 0. 1.]]\n",
      "\n",
      " [[1. 0. 0. 0. 0.]\n",
      " [0. 1. 0. 0. 0.]\n",
      " [0. 0. 1. 0. 0.]\n",
      " [0. 0. 0. 1. 0.]]\n",
      "\n",
      " [[0 0 1 0]\n",
      " [0 0 0 1]\n",
      " [0 0 0 0]\n",
      " [0 0 0 0]]\n",
      "\n",
      " [[0 1 0 0 0]\n",
      " [0 0 1 0 0]\n",
      " [0 0 0 1 0]\n",
      " [0 0 0 0 1]]\n"
     ]
    }
   ],
   "source": [
    "i=np.eye(4)\n",
    "print(i)\n",
    "i=np.eye(4,M=5)\n",
    "print(\"\\n\",i)\n",
    "i=np.eye(4,k=2,dtype=int)\n",
    "print(\"\\n\",i)\n",
    "i=np.eye(4,M=5,k=1,dtype=int)\n",
    "print(\"\\n\",i)"
   ]
  },
  {
   "cell_type": "code",
   "execution_count": 126,
   "metadata": {},
   "outputs": [
    {
     "name": "stdout",
     "output_type": "stream",
     "text": [
      "[ 1.  5.  9. 13.]\n",
      "[[0.         0.        ]\n",
      " [1.         1.33333333]\n",
      " [2.         2.66666667]\n",
      " [3.         4.        ]]\n"
     ]
    }
   ],
   "source": [
    "a=np.linspace(1,13,4)\n",
    "print(a)\n",
    "a=np.linspace(0,(3,4),4)\n",
    "print(a)"
   ]
  },
  {
   "cell_type": "markdown",
   "metadata": {},
   "source": [
    "# Random number"
   ]
  },
  {
   "cell_type": "code",
   "execution_count": 141,
   "metadata": {},
   "outputs": [
    {
     "name": "stdout",
     "output_type": "stream",
     "text": [
      "[[0.45341369 0.61155535 0.15835023]\n",
      " [0.19495165 0.23042858 0.92873799]]\n",
      "0.4295729163411855 0.07518651863869359\n",
      "\n",
      " [[ 0.88933378  0.19102618  0.68599647 -0.79892228]\n",
      " [ 1.04910157 -0.91993924 -0.94873901  0.18853671]\n",
      " [ 0.66634195 -1.77024592  1.01162087  1.13768857]]\n",
      "\n",
      " [[ 7  5  2]\n",
      " [10  3  5]\n",
      " [ 2 10  5]]\n",
      "\n",
      " [2 2 1 4 3 1 2 0 0 1]\n",
      "\n",
      " [-1 -1 -3 -4 -4 -3 -3 -1 -1 -1]\n"
     ]
    }
   ],
   "source": [
    "a = np.random.random((2,3)) #0-1\n",
    "print(a)\n",
    "print(a.mean(), a.var())\n",
    "\n",
    "rn = np.random.randn(3,4) #Normal/ Gaussion Distribution\n",
    "print(\"\\n\",rn)\n",
    "\n",
    "rin = np.random.randint(11,size=(3,3)) #Normal\n",
    "print(\"\\n\",rin)\n",
    "\n",
    "cho = np.random.choice(5,size=10) #Normal\n",
    "print(\"\\n\",cho)\n",
    "cho = np.random.choice([-1,-4,-3],size=10) #Normal\n",
    "print(\"\\n\",cho)"
   ]
  },
  {
   "cell_type": "code",
   "execution_count": 163,
   "metadata": {},
   "outputs": [
    {
     "data": {
      "text/plain": [
       "array([[12., 63., 48., 42., 61., 45., 20., 10.],\n",
       "       [24., 17.,  2., 57., 22., 61.,  2., 44.],\n",
       "       [16., 11., 29.,  7., 42.,  2.,  7., 38.],\n",
       "       [29., 42., 51., 39., 10., 64., 57., 25.],\n",
       "       [ 4.,  8., 57.,  3.,  5., 14., 44., 46.],\n",
       "       [ 1., 11., 41.,  2., 46., 36., 64., 44.],\n",
       "       [43., 29., 18., 37., 12., 38.,  1., 49.],\n",
       "       [47., 19., 40., 40., 57., 48., 15., 51.]])"
      ]
     },
     "execution_count": 163,
     "metadata": {},
     "output_type": "execute_result"
    }
   ],
   "source": [
    " b = np.random.randint(1,65,(8,8))\n",
    " b = np.asarray(b,dtype=float)\n",
    " b"
   ]
  },
  {
   "cell_type": "code",
   "execution_count": 173,
   "metadata": {},
   "outputs": [
    {
     "name": "stdout",
     "output_type": "stream",
     "text": [
      "\n",
      " [[1. 1. 1. 1. 1. 1. 1. 1.]\n",
      " [1. 1. 1. 1. 1. 1. 1. 1.]\n",
      " [1. 1. 1. 1. 1. 1. 1. 1.]\n",
      " [1. 1. 1. 1. 1. 1. 1. 1.]\n",
      " [1. 1. 1. 1. 1. 1. 1. 1.]\n",
      " [1. 1. 1. 1. 1. 1. 1. 1.]\n",
      " [1. 1. 1. 1. 1. 1. 1. 1.]\n",
      " [1. 1. 1. 1. 1. 1. 1. 1.]]\n",
      "\n",
      " [[2. 2. 2. 2. 2. 2. 2. 2.]\n",
      " [1. 1. 1. 1. 1. 1. 1. 1.]\n",
      " [1. 1. 1. 1. 1. 1. 1. 1.]\n",
      " [1. 1. 1. 1. 1. 1. 1. 1.]\n",
      " [1. 1. 1. 1. 1. 1. 1. 1.]\n",
      " [1. 1. 1. 1. 1. 1. 1. 1.]\n",
      " [1. 1. 1. 1. 1. 1. 1. 1.]\n",
      " [1. 1. 1. 1. 1. 1. 1. 1.]]\n",
      "\n",
      " [[9. 2. 2. 2. 2. 2. 2. 2.]\n",
      " [1. 8. 1. 1. 1. 1. 1. 1.]\n",
      " [1. 1. 7. 1. 1. 1. 1. 1.]\n",
      " [1. 1. 1. 6. 1. 1. 1. 1.]\n",
      " [1. 1. 1. 1. 5. 1. 1. 1.]\n",
      " [1. 1. 1. 1. 1. 1. 1. 1.]\n",
      " [1. 1. 1. 1. 1. 1. 1. 1.]\n",
      " [1. 1. 1. 1. 1. 1. 1. 1.]]\n"
     ]
    }
   ],
   "source": [
    "b = np.ones((8,8))\n",
    "print(\"\\n\",b)\n",
    "b[0,:]=2\n",
    "print(\"\\n\",b)\n",
    "b[[0,1,2,3,4],[0,1,2,3,4]]=[[9,8,7,6,5]]\n",
    "print(\"\\n\",b)"
   ]
  },
  {
   "cell_type": "markdown",
   "metadata": {},
   "source": [
    "# EigenValue, it apply for PCA "
   ]
  },
  {
   "cell_type": "code",
   "execution_count": 144,
   "metadata": {},
   "outputs": [
    {
     "name": "stdout",
     "output_type": "stream",
     "text": [
      "eigenvalues:\n",
      " [-0.37228132  5.37228132]\n",
      "eigenvectors\n",
      " [[-0.82456484 -0.41597356]\n",
      " [ 0.56576746 -0.90937671]]\n"
     ]
    }
   ],
   "source": [
    "a=np.array([[1,2],[3,4]])\n",
    "eigenvalues, eigenvectors =np.linalg.eig(a)\n",
    "print(\"eigenvalues:\\n\",eigenvalues)\n",
    "print(\"eigenvectors\\n\",eigenvectors) #column vectors!"
   ]
  },
  {
   "cell_type": "code",
   "execution_count": 148,
   "metadata": {},
   "outputs": [
    {
     "name": "stdout",
     "output_type": "stream",
     "text": [
      "\n",
      " [ 0.30697009 -0.21062466]\n",
      "\n",
      " [ 0.30697009 -0.21062466]\n",
      "\n",
      " True\n"
     ]
    }
   ],
   "source": [
    "# justify\n",
    "# e_vec*e_val=A* e_vec\n",
    "b= eigenvectors[:,0]*eigenvalues[0]\n",
    "print(\"\\n\",b)\n",
    "c=a @ eigenvectors[:,0]\n",
    "print(\"\\n\",c)\n",
    "\n",
    "#print(\"\\n\",b==c)\n",
    "print(\"\\n\",np.allclose(b,c))"
   ]
  },
  {
   "cell_type": "markdown",
   "metadata": {},
   "source": [
    "# solving linear systems"
   ]
  },
  {
   "cell_type": "markdown",
   "metadata": {},
   "source": [
    "Q: the addmission fee at a small fair is tk 1.50  for \n",
    "children and tk 4.00 for adults.on a certain day, 2200 people enter the fair and tk 5050 is collected. How many children and how many adults attended? \n",
    "\n",
    "sol:-> 2 Unknowns/ 2 Equations\n",
    "    - x1 + x2 = 2200\n",
    "    - 1.5*x1 + 4.0*x2 = 5050"
   ]
  },
  {
   "cell_type": "markdown",
   "metadata": {},
   "source": [
    "here, x=([x1,x2]), A=([[1,1],[1.5,4]]),b=([2200,5050])"
   ]
  },
  {
   "cell_type": "markdown",
   "metadata": {},
   "source": [
    "Ax = b\n",
    "=> x = A^-1 * b"
   ]
  },
  {
   "cell_type": "code",
   "execution_count": 152,
   "metadata": {},
   "outputs": [
    {
     "name": "stdout",
     "output_type": "stream",
     "text": [
      "\n",
      " [1500.  700.]\n",
      "\n",
      " [1500.  700.]\n"
     ]
    }
   ],
   "source": [
    "A=np.array([[1,1],[1.5,4.0]])\n",
    "b=np.array([2200,5050])\n",
    "x=np.linalg.inv(A).dot(b) \n",
    "print(\"\\n\",x)\n",
    "\n",
    "y=np.linalg.solve(A,b)\n",
    "print(\"\\n\",y)"
   ]
  },
  {
   "cell_type": "markdown",
   "metadata": {},
   "source": [
    "# Load Data"
   ]
  },
  {
   "cell_type": "markdown",
   "metadata": {},
   "source": [
    "two ways to load data\n",
    "- np.loadtxt\n",
    "- np.genfromtxt"
   ]
  },
  {
   "cell_type": "code",
   "execution_count": 157,
   "metadata": {},
   "outputs": [
    {
     "ename": "ValueError",
     "evalue": "could not convert string to float: 'Pregnancies'",
     "output_type": "error",
     "traceback": [
      "\u001b[1;31m---------------------------------------------------------------------------\u001b[0m",
      "\u001b[1;31mValueError\u001b[0m                                Traceback (most recent call last)",
      "\u001b[1;32m<ipython-input-157-151c10f56026>\u001b[0m in \u001b[0;36m<module>\u001b[1;34m\u001b[0m\n\u001b[1;32m----> 1\u001b[1;33m \u001b[0mdata\u001b[0m\u001b[1;33m=\u001b[0m \u001b[0mnp\u001b[0m\u001b[1;33m.\u001b[0m\u001b[0mloadtxt\u001b[0m\u001b[1;33m(\u001b[0m\u001b[1;34mr\"F:\\\\thesis\\\\diabetes\\kaggle_diabetes.csv\"\u001b[0m\u001b[1;33m,\u001b[0m \u001b[0mdelimiter\u001b[0m\u001b[1;33m=\u001b[0m\u001b[1;34m\",\"\u001b[0m\u001b[1;33m,\u001b[0m\u001b[1;33m)\u001b[0m\u001b[1;33m\u001b[0m\u001b[1;33m\u001b[0m\u001b[0m\n\u001b[0m",
      "\u001b[1;32m~\\anaconda3\\lib\\site-packages\\numpy\\lib\\npyio.py\u001b[0m in \u001b[0;36mloadtxt\u001b[1;34m(fname, dtype, comments, delimiter, converters, skiprows, usecols, unpack, ndmin, encoding, max_rows)\u001b[0m\n\u001b[0;32m   1137\u001b[0m         \u001b[1;31m# converting the data\u001b[0m\u001b[1;33m\u001b[0m\u001b[1;33m\u001b[0m\u001b[1;33m\u001b[0m\u001b[0m\n\u001b[0;32m   1138\u001b[0m         \u001b[0mX\u001b[0m \u001b[1;33m=\u001b[0m \u001b[1;32mNone\u001b[0m\u001b[1;33m\u001b[0m\u001b[1;33m\u001b[0m\u001b[0m\n\u001b[1;32m-> 1139\u001b[1;33m         \u001b[1;32mfor\u001b[0m \u001b[0mx\u001b[0m \u001b[1;32min\u001b[0m \u001b[0mread_data\u001b[0m\u001b[1;33m(\u001b[0m\u001b[0m_loadtxt_chunksize\u001b[0m\u001b[1;33m)\u001b[0m\u001b[1;33m:\u001b[0m\u001b[1;33m\u001b[0m\u001b[1;33m\u001b[0m\u001b[0m\n\u001b[0m\u001b[0;32m   1140\u001b[0m             \u001b[1;32mif\u001b[0m \u001b[0mX\u001b[0m \u001b[1;32mis\u001b[0m \u001b[1;32mNone\u001b[0m\u001b[1;33m:\u001b[0m\u001b[1;33m\u001b[0m\u001b[1;33m\u001b[0m\u001b[0m\n\u001b[0;32m   1141\u001b[0m                 \u001b[0mX\u001b[0m \u001b[1;33m=\u001b[0m \u001b[0mnp\u001b[0m\u001b[1;33m.\u001b[0m\u001b[0marray\u001b[0m\u001b[1;33m(\u001b[0m\u001b[0mx\u001b[0m\u001b[1;33m,\u001b[0m \u001b[0mdtype\u001b[0m\u001b[1;33m)\u001b[0m\u001b[1;33m\u001b[0m\u001b[1;33m\u001b[0m\u001b[0m\n",
      "\u001b[1;32m~\\anaconda3\\lib\\site-packages\\numpy\\lib\\npyio.py\u001b[0m in \u001b[0;36mread_data\u001b[1;34m(chunk_size)\u001b[0m\n\u001b[0;32m   1065\u001b[0m \u001b[1;33m\u001b[0m\u001b[0m\n\u001b[0;32m   1066\u001b[0m             \u001b[1;31m# Convert each value according to its column and store\u001b[0m\u001b[1;33m\u001b[0m\u001b[1;33m\u001b[0m\u001b[1;33m\u001b[0m\u001b[0m\n\u001b[1;32m-> 1067\u001b[1;33m             \u001b[0mitems\u001b[0m \u001b[1;33m=\u001b[0m \u001b[1;33m[\u001b[0m\u001b[0mconv\u001b[0m\u001b[1;33m(\u001b[0m\u001b[0mval\u001b[0m\u001b[1;33m)\u001b[0m \u001b[1;32mfor\u001b[0m \u001b[1;33m(\u001b[0m\u001b[0mconv\u001b[0m\u001b[1;33m,\u001b[0m \u001b[0mval\u001b[0m\u001b[1;33m)\u001b[0m \u001b[1;32min\u001b[0m \u001b[0mzip\u001b[0m\u001b[1;33m(\u001b[0m\u001b[0mconverters\u001b[0m\u001b[1;33m,\u001b[0m \u001b[0mvals\u001b[0m\u001b[1;33m)\u001b[0m\u001b[1;33m]\u001b[0m\u001b[1;33m\u001b[0m\u001b[1;33m\u001b[0m\u001b[0m\n\u001b[0m\u001b[0;32m   1068\u001b[0m \u001b[1;33m\u001b[0m\u001b[0m\n\u001b[0;32m   1069\u001b[0m             \u001b[1;31m# Then pack it according to the dtype's nesting\u001b[0m\u001b[1;33m\u001b[0m\u001b[1;33m\u001b[0m\u001b[1;33m\u001b[0m\u001b[0m\n",
      "\u001b[1;32m~\\anaconda3\\lib\\site-packages\\numpy\\lib\\npyio.py\u001b[0m in \u001b[0;36m<listcomp>\u001b[1;34m(.0)\u001b[0m\n\u001b[0;32m   1065\u001b[0m \u001b[1;33m\u001b[0m\u001b[0m\n\u001b[0;32m   1066\u001b[0m             \u001b[1;31m# Convert each value according to its column and store\u001b[0m\u001b[1;33m\u001b[0m\u001b[1;33m\u001b[0m\u001b[1;33m\u001b[0m\u001b[0m\n\u001b[1;32m-> 1067\u001b[1;33m             \u001b[0mitems\u001b[0m \u001b[1;33m=\u001b[0m \u001b[1;33m[\u001b[0m\u001b[0mconv\u001b[0m\u001b[1;33m(\u001b[0m\u001b[0mval\u001b[0m\u001b[1;33m)\u001b[0m \u001b[1;32mfor\u001b[0m \u001b[1;33m(\u001b[0m\u001b[0mconv\u001b[0m\u001b[1;33m,\u001b[0m \u001b[0mval\u001b[0m\u001b[1;33m)\u001b[0m \u001b[1;32min\u001b[0m \u001b[0mzip\u001b[0m\u001b[1;33m(\u001b[0m\u001b[0mconverters\u001b[0m\u001b[1;33m,\u001b[0m \u001b[0mvals\u001b[0m\u001b[1;33m)\u001b[0m\u001b[1;33m]\u001b[0m\u001b[1;33m\u001b[0m\u001b[1;33m\u001b[0m\u001b[0m\n\u001b[0m\u001b[0;32m   1068\u001b[0m \u001b[1;33m\u001b[0m\u001b[0m\n\u001b[0;32m   1069\u001b[0m             \u001b[1;31m# Then pack it according to the dtype's nesting\u001b[0m\u001b[1;33m\u001b[0m\u001b[1;33m\u001b[0m\u001b[1;33m\u001b[0m\u001b[0m\n",
      "\u001b[1;32m~\\anaconda3\\lib\\site-packages\\numpy\\lib\\npyio.py\u001b[0m in \u001b[0;36mfloatconv\u001b[1;34m(x)\u001b[0m\n\u001b[0;32m    761\u001b[0m         \u001b[1;32mif\u001b[0m \u001b[1;34m'0x'\u001b[0m \u001b[1;32min\u001b[0m \u001b[0mx\u001b[0m\u001b[1;33m:\u001b[0m\u001b[1;33m\u001b[0m\u001b[1;33m\u001b[0m\u001b[0m\n\u001b[0;32m    762\u001b[0m             \u001b[1;32mreturn\u001b[0m \u001b[0mfloat\u001b[0m\u001b[1;33m.\u001b[0m\u001b[0mfromhex\u001b[0m\u001b[1;33m(\u001b[0m\u001b[0mx\u001b[0m\u001b[1;33m)\u001b[0m\u001b[1;33m\u001b[0m\u001b[1;33m\u001b[0m\u001b[0m\n\u001b[1;32m--> 763\u001b[1;33m         \u001b[1;32mreturn\u001b[0m \u001b[0mfloat\u001b[0m\u001b[1;33m(\u001b[0m\u001b[0mx\u001b[0m\u001b[1;33m)\u001b[0m\u001b[1;33m\u001b[0m\u001b[1;33m\u001b[0m\u001b[0m\n\u001b[0m\u001b[0;32m    764\u001b[0m \u001b[1;33m\u001b[0m\u001b[0m\n\u001b[0;32m    765\u001b[0m     \u001b[0mtyp\u001b[0m \u001b[1;33m=\u001b[0m \u001b[0mdtype\u001b[0m\u001b[1;33m.\u001b[0m\u001b[0mtype\u001b[0m\u001b[1;33m\u001b[0m\u001b[1;33m\u001b[0m\u001b[0m\n",
      "\u001b[1;31mValueError\u001b[0m: could not convert string to float: 'Pregnancies'"
     ]
    }
   ],
   "source": [
    "data= np.loadtxt(r\"F:\\\\thesis\\\\diabetes\\kaggle_diabetes.csv\", delimiter=\",\", dtype=np.float)"
   ]
  },
  {
   "cell_type": "code",
   "execution_count": null,
   "metadata": {},
   "outputs": [],
   "source": []
  }
 ],
 "metadata": {
  "kernelspec": {
   "display_name": "Python 3",
   "language": "python",
   "name": "python3"
  },
  "language_info": {
   "codemirror_mode": {
    "name": "ipython",
    "version": 3
   },
   "file_extension": ".py",
   "mimetype": "text/x-python",
   "name": "python",
   "nbconvert_exporter": "python",
   "pygments_lexer": "ipython3",
   "version": "3.8.3"
  }
 },
 "nbformat": 4,
 "nbformat_minor": 4
}
